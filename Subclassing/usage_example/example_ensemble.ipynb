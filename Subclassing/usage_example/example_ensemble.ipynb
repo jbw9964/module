{
 "cells": [
  {
   "cell_type": "markdown",
   "metadata": {},
   "source": [
    "this jupyter notebook has to be same directory with Subclassing"
   ]
  },
  {
   "cell_type": "markdown",
   "metadata": {},
   "source": [
    "## load dataset"
   ]
  },
  {
   "cell_type": "code",
   "execution_count": 1,
   "metadata": {},
   "outputs": [
    {
     "name": "stdout",
     "output_type": "stream",
     "text": [
      "(5000, 785)\n"
     ]
    }
   ],
   "source": [
    "from Subclassing.datasets import sampled_dataset\n",
    "\n",
    "sample_data = sampled_dataset.load_data()\n",
    "print(sample_data.shape)"
   ]
  },
  {
   "cell_type": "code",
   "execution_count": 2,
   "metadata": {},
   "outputs": [
    {
     "name": "stdout",
     "output_type": "stream",
     "text": [
      "(5000, 28, 28, 1) (5000,)\n"
     ]
    }
   ],
   "source": [
    "from Subclassing.utils import dataset_split\n",
    "\n",
    "data_feature, data_target = dataset_split(sample_data)\n",
    "print(data_feature.shape, data_target.shape)"
   ]
  },
  {
   "cell_type": "code",
   "execution_count": 3,
   "metadata": {},
   "outputs": [
    {
     "name": "stdout",
     "output_type": "stream",
     "text": [
      "(2800, 28, 28, 1) (2800,)\n",
      "(1200, 28, 28, 1) (1200,)\n",
      "(1000, 28, 28, 1) (1000,)\n"
     ]
    }
   ],
   "source": [
    "from sklearn.model_selection import train_test_split\n",
    "\n",
    "x_train, x_test, y_train, y_test = train_test_split(data_feature, data_target, test_size=0.2)\n",
    "x_train, x_val, y_train, y_val = train_test_split(x_train, y_train, test_size=0.3)\n",
    "\n",
    "print(x_train.shape, y_train.shape)\n",
    "print(x_val.shape, y_val.shape)\n",
    "print(x_test.shape, y_test.shape)"
   ]
  },
  {
   "cell_type": "markdown",
   "metadata": {},
   "source": [
    "## load model class"
   ]
  },
  {
   "attachments": {},
   "cell_type": "markdown",
   "metadata": {},
   "source": [
    "load submodels\n",
    "\n",
    "you should build model before "
   ]
  },
  {
   "cell_type": "code",
   "execution_count": 4,
   "metadata": {},
   "outputs": [
    {
     "name": "stderr",
     "output_type": "stream",
     "text": [
      "2023-02-12 11:52:54.237509: I tensorflow/core/platform/cpu_feature_guard.cc:193] This TensorFlow binary is optimized with oneAPI Deep Neural Network Library (oneDNN) to use the following CPU instructions in performance-critical operations:  SSE4.1 SSE4.2\n",
      "To enable them in other operations, rebuild TensorFlow with the appropriate compiler flags.\n"
     ]
    }
   ],
   "source": [
    "from Subclassing.models import LeNet5, VGG16\n",
    "\n",
    "num_of_classes = 36\n",
    "\n",
    "sub_1 = LeNet5(num_of_classes)\n",
    "sub_2 = VGG16(num_of_classes)\n",
    "\n",
    "from Subclassing.utils import build_model\n",
    "\n",
    "sub_1 = build_model(sub_1, input_shape=(28,28,1))\n",
    "sub_2 = build_model(sub_2, input_shape=(28,28,1))\n"
   ]
  },
  {
   "attachments": {},
   "cell_type": "markdown",
   "metadata": {},
   "source": [
    "or you can use this instead"
   ]
  },
  {
   "cell_type": "code",
   "execution_count": 5,
   "metadata": {},
   "outputs": [],
   "source": [
    "# from keras.layers import Input\n",
    "# from keras import Model\n",
    "\n",
    "# input_layer = Input(shape=(28,28,1))\n",
    "\n",
    "# sub_1 = Model(inputs=[input_layer], outputs=[sub_1(input_layer)])\n",
    "# sub_2 = Model(inputs=[input_layer], outputs=[sub_2(input_layer)])"
   ]
  },
  {
   "attachments": {},
   "cell_type": "markdown",
   "metadata": {},
   "source": [
    "now you should load weight (pre-trained) of each submodels"
   ]
  },
  {
   "cell_type": "code",
   "execution_count": 6,
   "metadata": {},
   "outputs": [],
   "source": [
    "from Subclassing.load_trained_model import load_trained_lenet5, load_trained_vgg16\n",
    "\n",
    "load_trained_lenet5(sub_1)\n",
    "load_trained_vgg16(sub_2)\n",
    "\n",
    "sub_1.compile(\n",
    "    optimizer='adam',\n",
    "    loss='sparse_categorical_crossentropy',\n",
    "    metrics=['accuracy']\n",
    ")\n",
    "sub_2.compile(\n",
    "    optimizer='adam',\n",
    "    loss='sparse_categorical_crossentropy',\n",
    "    metrics=['accuracy']\n",
    ")"
   ]
  },
  {
   "attachments": {},
   "cell_type": "markdown",
   "metadata": {},
   "source": [
    "you should denote that supermodel will be automatically compiled\n",
    "\n",
    "watch docstring of Ensemble.__init__()"
   ]
  },
  {
   "cell_type": "code",
   "execution_count": 7,
   "metadata": {},
   "outputs": [
    {
     "name": "stdout",
     "output_type": "stream",
     "text": [
      "Number of submodels : 2\n",
      "Submodels : ['LeNet5', 'VGG16']\n",
      "Model: \"LeNet5\"\n",
      "_________________________________________________________________\n",
      " Layer (type)                Output Shape              Param #   \n",
      "=================================================================\n",
      " input_1 (InputLayer)        [(None, 28, 28, 1)]       0         \n",
      "                                                                 \n",
      " LeNet5 (LeNet5)             (None, 36)                2067048   \n",
      "                                                                 \n",
      "=================================================================\n",
      "Total params: 2,067,048\n",
      "Trainable params: 2,067,048\n",
      "Non-trainable params: 0\n",
      "_________________________________________________________________\n",
      "\n",
      "Model: \"VGG16\"\n",
      "_________________________________________________________________\n",
      " Layer (type)                Output Shape              Param #   \n",
      "=================================================================\n",
      " input_2 (InputLayer)        [(None, 28, 28, 1)]       0         \n",
      "                                                                 \n",
      " vgg16 (VGG16)               (None, 36)                7947288   \n",
      "                                                                 \n",
      "=================================================================\n",
      "Total params: 7,947,288\n",
      "Trainable params: 7,947,288\n",
      "Non-trainable params: 0\n",
      "_________________________________________________________________\n",
      "\n",
      "Model: \"Ensemble\"\n",
      "__________________________________________________________________________________________________\n",
      " Layer (type)                   Output Shape         Param #     Connected to                     \n",
      "==================================================================================================\n",
      " LeNet5 (InputLayer)            [(None, 36)]         0           []                               \n",
      "                                                                                                  \n",
      " VGG16 (InputLayer)             [(None, 36)]         0           []                               \n",
      "                                                                                                  \n",
      " LeNet5_Dense (Dense)           (None, 108)          3996        ['LeNet5[0][0]']                 \n",
      "                                                                                                  \n",
      " VGG16_Dense (Dense)            (None, 108)          3996        ['VGG16[0][0]']                  \n",
      "                                                                                                  \n",
      " Ensemble_Average (Average)     (None, 108)          0           ['LeNet5_Dense[0][0]',           \n",
      "                                                                  'VGG16_Dense[0][0]']            \n",
      "                                                                                                  \n",
      " Ensemble_Output (Dense)        (None, 36)           3924        ['Ensemble_Average[0][0]']       \n",
      "                                                                                                  \n",
      "==================================================================================================\n",
      "Total params: 11,916\n",
      "Trainable params: 11,916\n",
      "Non-trainable params: 0\n",
      "__________________________________________________________________________________________________\n",
      "\n"
     ]
    }
   ],
   "source": [
    "from Subclassing.models import Ensemble\n",
    "\n",
    "sub_list = [sub_1, sub_2]\n",
    "\n",
    "modeel = Ensemble(sub_list, num_of_classes)\n",
    "modeel.summary()"
   ]
  },
  {
   "attachments": {},
   "cell_type": "markdown",
   "metadata": {},
   "source": [
    "## fit ensemble model using callbacks"
   ]
  },
  {
   "cell_type": "code",
   "execution_count": 8,
   "metadata": {},
   "outputs": [],
   "source": [
    "from Subclassing.utils import F1ScoreCallback\n",
    "from keras.callbacks import EarlyStopping\n",
    "\n",
    "epoch_atience = 5\n",
    "\n",
    "earlystop = EarlyStopping(\n",
    "    monitor='val_loss',\n",
    "    patience=epoch_atience,\n",
    "    verbose=1,\n",
    "    restore_best_weights=True\n",
    ")"
   ]
  },
  {
   "cell_type": "code",
   "execution_count": 9,
   "metadata": {},
   "outputs": [
    {
     "name": "stdout",
     "output_type": "stream",
     "text": [
      "Training supermodel...\n",
      "\n",
      "Train model by prediction of submodels\n",
      "\n",
      "Making prediction by submodels...\n",
      "\n",
      "Number of submodels : 2\n",
      "Submodels : ['LeNet5', 'VGG16']\n",
      "\n",
      "88/88 [==============================] - 1s 13ms/step\n",
      "88/88 [==============================] - 6s 65ms/step\n",
      "\n",
      "Start training by prediction of submodels\n",
      "Epoch 1/10\n",
      "62/62 [==============================] - 0s 3ms/step - loss: 3.1038 - accuracy: 0.6825 - val_loss: 2.5776 - val_accuracy: 0.8407\n",
      "Epoch 2/10\n",
      "62/62 [==============================] - 0s 1ms/step - loss: 2.0367 - accuracy: 0.8137 - val_loss: 1.4964 - val_accuracy: 0.8205\n",
      "Epoch 3/10\n",
      "62/62 [==============================] - 0s 1ms/step - loss: 1.1338 - accuracy: 0.8826 - val_loss: 0.8351 - val_accuracy: 0.9215\n",
      "Epoch 4/10\n",
      "62/62 [==============================] - 0s 1ms/step - loss: 0.6362 - accuracy: 0.9459 - val_loss: 0.5176 - val_accuracy: 0.9548\n",
      "Epoch 5/10\n",
      "62/62 [==============================] - 0s 1ms/step - loss: 0.3973 - accuracy: 0.9587 - val_loss: 0.3575 - val_accuracy: 0.9548\n",
      "Epoch 6/10\n",
      "62/62 [==============================] - 0s 1ms/step - loss: 0.2716 - accuracy: 0.9643 - val_loss: 0.2674 - val_accuracy: 0.9608\n",
      "Epoch 7/10\n",
      "62/62 [==============================] - 0s 1ms/step - loss: 0.2023 - accuracy: 0.9678 - val_loss: 0.2180 - val_accuracy: 0.9667\n",
      "Epoch 8/10\n",
      "62/62 [==============================] - 0s 2ms/step - loss: 0.1619 - accuracy: 0.9735 - val_loss: 0.1881 - val_accuracy: 0.9667\n",
      "Epoch 9/10\n",
      "62/62 [==============================] - 0s 2ms/step - loss: 0.1362 - accuracy: 0.9775 - val_loss: 0.1687 - val_accuracy: 0.9691\n",
      "Epoch 10/10\n",
      "62/62 [==============================] - 0s 1ms/step - loss: 0.1187 - accuracy: 0.9821 - val_loss: 0.1561 - val_accuracy: 0.9727\n"
     ]
    }
   ],
   "source": [
    "supmodel_history = modeel.fit_supermodel(x_train, y_train, epochs=10, verbose=1, callbacks=[\n",
    "    earlystop\n",
    "])"
   ]
  },
  {
   "cell_type": "markdown",
   "metadata": {},
   "source": [
    "## plot model train history"
   ]
  },
  {
   "cell_type": "code",
   "execution_count": 10,
   "metadata": {},
   "outputs": [],
   "source": [
    "import matplotlib.pyplot as plt"
   ]
  },
  {
   "cell_type": "code",
   "execution_count": 11,
   "metadata": {},
   "outputs": [
    {
     "name": "stdout",
     "output_type": "stream",
     "text": [
      "dict_keys(['loss', 'accuracy', 'val_loss', 'val_accuracy'])\n"
     ]
    }
   ],
   "source": [
    "print(supmodel_history.history.keys())"
   ]
  },
  {
   "cell_type": "code",
   "execution_count": 12,
   "metadata": {},
   "outputs": [
    {
     "data": {
      "image/png": "[encoded data removed]",
      "text/plain": [
       "<Figure size 640x480 with 1 Axes>"
      ]
     },
     "metadata": {},
     "output_type": "display_data"
    }
   ],
   "source": [
    "plt.plot(supmodel_history.history['loss'], label='loss')\n",
    "plt.plot(supmodel_history.history['val_loss'], label='val_loss')\n",
    "plt.title(\"Ensemble : loss\")\n",
    "plt.legend()\n",
    "plt.show()"
   ]
  },
  {
   "cell_type": "code",
   "execution_count": 13,
   "metadata": {},
   "outputs": [
    {
     "data": {
      "image/png": "[encoded data removed]",
      "text/plain": [
       "<Figure size 640x480 with 1 Axes>"
      ]
     },
     "metadata": {},
     "output_type": "display_data"
    }
   ],
   "source": [
    "plt.plot(supmodel_history.history['accuracy'], label='accuracy')\n",
    "plt.plot(supmodel_history.history['val_accuracy'], label='val_accuracy')\n",
    "plt.title(\"Ensemble : accuracy\")\n",
    "plt.legend()\n",
    "plt.show()"
   ]
  },
  {
   "cell_type": "code",
   "execution_count": null,
   "metadata": {},
   "outputs": [],
   "source": []
  }
 ],
 "metadata": {
  "kernelspec": {
   "display_name": "tensorflow",
   "language": "python",
   "name": "python3"
  },
  "language_info": {
   "codemirror_mode": {
    "name": "ipython",
    "version": 3
   },
   "file_extension": ".py",
   "mimetype": "text/x-python",
   "name": "python",
   "nbconvert_exporter": "python",
   "pygments_lexer": "ipython3",
   "version": "3.9.15"
  },
  "orig_nbformat": 4,
  "vscode": {
   "interpreter": {
    "hash": "9a9202a4fd8bbcc27ce724609d18419c875e1c02e0496bec90ca9c1aa709ca80"
   }
  }
 },
 "nbformat": 4,
 "nbformat_minor": 2
}
